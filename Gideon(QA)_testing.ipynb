{
  "nbformat": 4,
  "nbformat_minor": 0,
  "metadata": {
    "colab": {
      "name": "Gideon(QA)_testing.ipynb",
      "provenance": [],
      "collapsed_sections": [],
      "authorship_tag": "ABX9TyMSxoIHY+ODsN9rCaP82TNn",
      "include_colab_link": true
    },
    "kernelspec": {
      "name": "python3",
      "display_name": "Python 3"
    }
  },
  "cells": [
    {
      "cell_type": "markdown",
      "metadata": {
        "id": "view-in-github",
        "colab_type": "text"
      },
      "source": [
        "<a href=\"https://colab.research.google.com/github/CoderAnubhav/Gideon-AI-Chatbot/blob/master/Gideon(QA)_testing.ipynb\" target=\"_parent\"><img src=\"https://colab.research.google.com/assets/colab-badge.svg\" alt=\"Open In Colab\"/></a>"
      ]
    },
    {
      "cell_type": "code",
      "metadata": {
        "id": "u_HZV4uWim_J",
        "colab_type": "code",
        "colab": {}
      },
      "source": [
        "pip install tensorflow_text"
      ],
      "execution_count": null,
      "outputs": []
    },
    {
      "cell_type": "code",
      "metadata": {
        "id": "rSvUIW2PC5CD",
        "colab_type": "code",
        "colab": {}
      },
      "source": [
        "pip install wikipedia"
      ],
      "execution_count": null,
      "outputs": []
    },
    {
      "cell_type": "code",
      "metadata": {
        "id": "gM-WAJrW2Dxs",
        "colab_type": "code",
        "colab": {
          "base_uri": "https://localhost:8080/",
          "height": 54
        },
        "outputId": "2425bf39-1e84-4d84-87f4-16af1d277a71"
      },
      "source": [
        "from bs4 import BeautifulSoup\n",
        "from googlesearch import search\n",
        "import joblib\n",
        "from urllib.request import urlopen\n",
        "from lxml import  html\n",
        "import pandas as pd\n",
        "import tensorflow as tf\n",
        "import tensorflow_hub as hub\n",
        "import numpy as np\n",
        "import tensorflow_text\n",
        "import random\n",
        "import string\n",
        "import requests\n",
        "import wikipedia as wk\n",
        "import re\n",
        " \n",
        "pd.set_option('display.max_rows', None)\n",
        "pd.set_option('display.max_columns', None)      # for  removing all form of output truncations\n",
        "pd.set_option('display.width', None)\n",
        "pd.set_option('display.max_colwidth',None)\n",
        " \n",
        "# dataset coronavirus WHO\n",
        "url='https://raw.githubusercontent.com/CoderAnubhav/Gideon-AI-Chatbot/master/WHO_FAQ1.xlsx'      #link for the dataset\n",
        "response_encodings_url='https://raw.githubusercontent.com/CoderAnubhav/Gideon-AI-Chatbot/master/enc_data.pkl'  #link for the response encodings on the dataset given by the above url using Universal Sentence Encoder multilingual Qa \n",
        "data=pd.read_excel(url,index_col=False)\n",
        "data.drop(['Unnamed: 2', 'Unnamed: 3', 'Unnamed: 4',\n",
        "       'Unnamed: 5', 'Unnamed: 6','Unnamed: 7', 'Unnamed: 8', 'Unnamed: 9',\n",
        "       'Unnamed: 10', 'Unnamed: 11', 'Unnamed: 12', 'Unnamed: 13',\n",
        "       'Unnamed: 14', 'Unnamed: 15', 'Unnamed: 16', 'Unnamed: 17',\n",
        "       'Unnamed: 18', 'Unnamed: 19', 'Unnamed: 20', 'Unnamed: 21',\n",
        "       'Unnamed: 22', 'Unnamed: 23'],axis=1,inplace=True)\n",
        "\n",
        "# Load module containing USE\n",
        "module = hub.load('https://tfhub.dev/google/universal-sentence-encoder-multilingual-qa/3')\n",
        "'''\n",
        "response_encodings = module.signatures['response_encoder'](\n",
        "              input=tf.constant(preprocess_sentences(data.Answer)),\n",
        "              context=tf.constant(preprocess_sentences(data.Context)))['outputs']\n",
        " \n",
        "joblib.dump(response_encodings,'enc_data.pkl')\n",
        "'''"
      ],
      "execution_count": 8,
      "outputs": [
        {
          "output_type": "execute_result",
          "data": {
            "application/vnd.google.colaboratory.intrinsic": {
              "type": "string"
            },
            "text/plain": [
              "\"\\nresponse_encodings = module.signatures['response_encoder'](\\n              input=tf.constant(preprocess_sentences(data.Answer)),\\n              context=tf.constant(preprocess_sentences(data.Context)))['outputs']\\n \\njoblib.dump(response_encodings,'enc_data.pkl')\\n\""
            ]
          },
          "metadata": {
            "tags": []
          },
          "execution_count": 8
        }
      ]
    },
    {
      "cell_type": "code",
      "metadata": {
        "id": "fcL4nCul2EpE",
        "colab_type": "code",
        "colab": {
          "base_uri": "https://localhost:8080/",
          "height": 328
        },
        "outputId": "a0db3294-e579-438c-d288-88d30a4eef40"
      },
      "source": [
        "def preprocess_sentences(input_sentences):\n",
        "    return [re.sub(r'(covid-19|covid)', 'coronavirus', input_sentence, flags=re.I) \n",
        "            for input_sentence in input_sentences]\n",
        " \n",
        "def generateResponseUtil(input_ques):\n",
        " \n",
        "      response_encodings=joblib.load(urlopen(response_encodings_url))      \n",
        " \n",
        "      question_encodings = module.signatures['question_encoder'](\n",
        "          tf.constant(preprocess_sentences(input_ques))\n",
        "      )['outputs']\n",
        " \n",
        "      # Get the responses\n",
        "      test_responses = data.Answer[np.argmax(np.inner(question_encodings, response_encodings), axis=1)]\n",
        " \n",
        "      # Show them in a dataframe\n",
        "      df=pd.DataFrame({'Test Questions': input_ques, 'Test Responses': test_responses})\n",
        " \n",
        "      return df['Test Responses'].to_string(index=False)\n",
        " \n",
        "welcome_input = (\"hello gideon\",\"hi gideon\",\"hey gideon\")\n",
        "welcome_response = [\"hi\", \"hey\", \"*nods*\", \"hi there\", \"hello\"]\n",
        "def welcome(user_response):\n",
        "    if user_response.lower() in welcome_input:\n",
        "          return random.choice(welcome_response)\n",
        " \n",
        " \n",
        "def generateResponse(user_ques):\n",
        "    robo_response=''\n",
        "    if user_ques != \"\" :\n",
        "      user_ques=[user_ques]\n",
        "      user_ques=preprocess_sentences(user_ques)\n",
        "      robo_response+=generateResponseUtil(user_ques)\n",
        " \n",
        "    print(\"Gideon : \"+robo_response)\n",
        " \n",
        "#wikipedia search\n",
        "def wikipedia_query(input):\n",
        "    reg_ex = re.search('wiki (.*)', input)\n",
        "    try:\n",
        "        if reg_ex:\n",
        "            topic = reg_ex.group(1)\n",
        "            wiki = wk.summary(topic, sentences = 3)\n",
        "            return wiki\n",
        "    except Exception as e:\n",
        "            return 0\n",
        " \n",
        "#google search\n",
        "def google_query(query,index=0):\n",
        "    fallback=\"Gideon : Sorry,I cannot find a response in google\"\n",
        "    reg_ex = re.search('google (.*)', query)\n",
        "    query=reg_ex.group(1)\n",
        " \n",
        "    try:\n",
        "      search_result_list=list(search(query,tld=\"co.in\",num=10,stop=3,pause=1))\n",
        "      page=requests.get(search_result_list[index])\n",
        "      tree=html.fromstring(page.content)\n",
        "      soup=BeautifulSoup(page.content,features=\"lxml\")\n",
        "      article_text=''\n",
        "      article=soup.findAll('p')\n",
        "      for element in article:\n",
        "        article_text+='\\n'+''.join(element.findAll(text=True))\n",
        "      print(\"Gideon : Showing response from Google...\")\n",
        "      print(article_text)\n",
        " \n",
        " \n",
        "    except:\n",
        "      print(fallback)\n",
        " \n",
        "def chatbot_query():\n",
        "    flag=True\n",
        "    print(\"***************************************************\")\n",
        "    print(\"My name is Gideon and I'm a COVID-19 assistance chatbot to resolve your general queries about COVID-19 in multiple languages.\")\n",
        "    print(\"I sometime give illogical answers. If you are unsatisfied with my response you can ask me to get responses from google or wikipedia by typing google (or wiki) followed by your query\")\n",
        "    print(\"You can start a conversation with me by typing Hello Gideon or Hi Gideon\")\n",
        "    print(\"If you want to exit,type bye\")\n",
        "    while(flag==True):\n",
        "        user_response = input()\n",
        "        user_response=user_response.lower()\n",
        "        if (user_response not in ['bye','shutdown','exit', 'quit','bye gideon']):\n",
        "            if (user_response=='thanks' or user_response=='thank you' or user_response=='okay' or user_response=='ok'):\n",
        "                print(\"Gideon : You are welcome..\")\n",
        "                print(\"Gideon : Do you want to continue?(Yes/No)\")\n",
        "                flag=True if input().lower()=='yes' else False\n",
        " \n",
        "            elif \"wiki\" in user_response:\n",
        "                w=wikipedia_query(user_response)\n",
        "                print(\"Gideon : Showing data from Wikipedia..\")\n",
        "                if w==0:\n",
        "                  print(\"No data avilable on wikipedia for the following query\")\n",
        "                else:\n",
        "                  print(w)\n",
        " \n",
        "            elif \"google\" in user_response:\n",
        "                google_query(user_response)\n",
        " \n",
        "            else:\n",
        "                if(welcome(user_response)!=None):\n",
        "                    print(\"Gideon : \"+welcome(user_response))\n",
        "                else:\n",
        "                    generateResponse(user_response)\n",
        " \n",
        "        else:\n",
        "          flag=False\n",
        " \n",
        "    if flag==False:\n",
        "      print(\"Gideon : It's a pleasure talking to you.Stay Safe.Bye!!! \")\n",
        " \n",
        "chatbot_query()"
      ],
      "execution_count": 10,
      "outputs": [
        {
          "output_type": "stream",
          "text": [
            "***************************************************\n",
            "My name is Gideon and I'm a COVID-19 assistance chatbot to resolve your general queries about COVID-19 in multiple languages.\n",
            "I sometime give illogical answers. If you are unsatisfied with my response you can ask me to get responses from google or wikipedia by typing google (or wiki) followed by your query\n",
            "You can start a conversation with me by typing Hello Gideon or Hi Gideon\n",
            "If you want to exit,type bye\n",
            "what is covid\n",
            "Gideon :  Coronaviruses are a large family of viruses that are common in animals. Occasionally, people get infected with these viruses which may then spread to other people.\n",
            "hi gideon\n",
            "Gideon : hi there\n",
            "what are its symptoms\n",
            "Gideon :  The most common symptoms of COVID-19 are fever, tiredness, and dry cough. Some patients may have aches and pains, nasal congestion, runny nose, sore throat or diarrhea. These symptoms are usually mild and begin gradually.\n",
            "thank you\n",
            "Gideon : You are welcome..\n",
            "Gideon : Do you want to continue?(Yes/No)\n",
            "no\n",
            "Gideon : It's a pleasure talking to you.Stay Safe.Bye!!! \n"
          ],
          "name": "stdout"
        }
      ]
    }
  ]
}